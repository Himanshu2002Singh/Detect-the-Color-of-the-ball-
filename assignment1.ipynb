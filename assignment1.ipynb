{
 "cells": [
  {
   "cell_type": "code",
   "execution_count": 3,
   "metadata": {},
   "outputs": [],
   "source": [
    "import cv2\n",
    "colors = {'red': (0, 0, 255), 'green': (0, 255, 0), 'blue': (255, 0, 0)}\n",
    "cap = cv2.VideoCapture('https://drive.google.com/file/d/1goI3aHVE29Gko9lpTzgi_g3CZZPjJq8w/view?usp=sharing')\n"
   ]
  },
  {
   "cell_type": "code",
   "execution_count": 6,
   "metadata": {},
   "outputs": [],
   "source": [
    "fourcc = cv2.VideoWriter_fourcc(*'XVID')\n",
    "out = cv2.VideoWriter('output.avi', fourcc, 20.0, (640, 480))\n",
    "\n",
    "# Define the quadrants (x, y, width, height)\n",
    "quadrants = [(0, 0, 320, 240), (320, 0, 320, 240), (0, 240, 320, 240), (320, 240, 320, 240)]\n",
    "\n",
    "# Define the timestamp\n",
    "timestamp = 0\n",
    "\n",
    "# Process each frame\n",
    "while True:\n",
    "    ret, frame = cap.read()\n",
    "    if not ret:\n",
    "        break\n",
    "\n",
    "    # Convert the frame to HSV color space\n",
    "    hsv = cv2.cvtColor(frame, cv2.COLOR_BGR2HSV)\n",
    "\n",
    "    # Process each color\n",
    "    for color in colors:\n",
    "        # Define the lower and upper bounds for the color\n",
    "        lower = (colors[color][0] - 10, 100, 100)\n",
    "        upper = (colors[color][0] + 10, 255, 255)\n",
    "\n",
    "        # Create a mask for the color\n",
    "        mask = cv2.inRange(hsv, lower, upper)\n",
    "\n",
    "        # Find the contours in the mask\n",
    "        contours, hierarchy = cv2.findContours(mask, cv2.RETR_TREE, cv2.CHAIN_APPROX_SIMPLE)\n",
    "\n",
    "        # Process each contour\n",
    "        for cnt in contours:\n",
    "            # Get the bounding box of the contour\n",
    "            x, y, w, h = cv2.boundingRect(cnt)\n",
    "\n",
    "            # Check if the contour is within a quadrant\n",
    "            for i, quadrant in enumerate(quadrants):\n",
    "                if x > quadrant[0] and x + w < quadrant[0] + quadrant[2] and y > quadrant[1] and y + h < quadrant[1] + quadrant[3]:\n",
    "                    # Record the event\n",
    "                    print('Time:', timestamp, 'Quadrant:', i + 1, 'Color:', color, 'Type: Entry')\n",
    "\n",
    "    # Update the timestamp\n",
    "    timestamp += 1\n",
    "\n",
    "    # Write the frame to the output video\n",
    "    out.write(frame)\n",
    "\n",
    "    # Display the frame\n",
    "    cv2.imshow('frame', frame)\n",
    "    if cv2.waitKey(1) & 0xFF == ord('q'):\n",
    "        break\n",
    "\n",
    "# Release the video capture and writer\n",
    "cap.release()\n",
    "out.release()\n",
    "\n",
    "# Close all windows\n",
    "cv2.destroyAllWindows()\n"
   ]
  }
 ],
 "metadata": {
  "kernelspec": {
   "display_name": "Python 3",
   "language": "python",
   "name": "python3"
  },
  "language_info": {
   "codemirror_mode": {
    "name": "ipython",
    "version": 3
   },
   "file_extension": ".py",
   "mimetype": "text/x-python",
   "name": "python",
   "nbconvert_exporter": "python",
   "pygments_lexer": "ipython3",
   "version": "3.10.9"
  },
  "orig_nbformat": 4,
  "vscode": {
   "interpreter": {
    "hash": "26de051ba29f2982a8de78e945f0abaf191376122a1563185a90213a26c5da77"
   }
  }
 },
 "nbformat": 4,
 "nbformat_minor": 2
}
